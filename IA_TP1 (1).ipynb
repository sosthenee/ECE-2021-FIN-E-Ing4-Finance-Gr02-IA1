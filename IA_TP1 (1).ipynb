{
  "nbformat": 4,
  "nbformat_minor": 0,
  "metadata": {
    "kernelspec": {
      "display_name": "Python 3",
      "language": "python",
      "name": "python3"
    },
    "language_info": {
      "codemirror_mode": {
        "name": "ipython",
        "version": 3
      },
      "file_extension": ".py",
      "mimetype": "text/x-python",
      "name": "python",
      "nbconvert_exporter": "python",
      "pygments_lexer": "ipython3",
      "version": "3.8.3"
    },
    "colab": {
      "name": "IA_TP1.ipynb",
      "provenance": []
    },
    "accelerator": "GPU"
  },
  "cells": [
    {
      "cell_type": "code",
      "metadata": {
        "id": "bKTcN6vWYzIR"
      },
      "source": [
        "import os \n",
        "\n",
        "import copy\n",
        "\n",
        "import tensorflow as tf\n",
        "from tensorflow import keras\n",
        "from keras import Input, Model, Sequential\n",
        "from keras.layers import Activation\n",
        "from keras.layers import Conv2D, MaxPooling2D,ZeroPadding2D, BatchNormalization, Dense, Flatten, Reshape , Dropout\n",
        "\n",
        "import numpy as np\n",
        "import pandas as pd\n",
        "from sklearn.model_selection import train_test_split\n",
        "\n"
      ],
      "execution_count": 2,
      "outputs": []
    },
    {
      "cell_type": "code",
      "metadata": {
        "colab": {
          "base_uri": "https://localhost:8080/"
        },
        "id": "1GkU8dP3ueH8",
        "outputId": "d29d758f-4f7c-4c15-a009-42ddbd9f731e"
      },
      "source": [
        "!ln -sf /opt/bin/nvidia-smi /usr/bin/nvidia-smi\r\n",
        "!pip install gputil\r\n",
        "!pip install psutil\r\n",
        "!pip install humanize\r\n",
        "import psutil\r\n",
        "import humanize\r\n",
        "import os\r\n",
        "import GPUtil as GPU\r\n",
        "GPUs = GPU.getGPUs()\r\n",
        "# XXX: only one GPU on Colab and isn’t guaranteed\r\n",
        "gpu = GPUs[0]\r\n",
        "def printm():\r\n",
        " process = psutil.Process(os.getpid())\r\n",
        " print(\"Gen RAM Free: \" + humanize.naturalsize( psutil.virtual_memory().available ), \" | Proc size: \" + humanize.naturalsize( process.memory_info().rss))\r\n",
        " print(\"GPU RAM Free: {0:.0f}MB | Used: {1:.0f}MB | Util {2:3.0f}% | Total {3:.0f}MB\".format(gpu.memoryFree, gpu.memoryUsed, gpu.memoryUtil*100, gpu.memoryTotal))\r\n",
        "printm() "
      ],
      "execution_count": 3,
      "outputs": [
        {
          "output_type": "stream",
          "text": [
            "Collecting gputil\n",
            "  Downloading https://files.pythonhosted.org/packages/ed/0e/5c61eedde9f6c87713e89d794f01e378cfd9565847d4576fa627d758c554/GPUtil-1.4.0.tar.gz\n",
            "Building wheels for collected packages: gputil\n",
            "  Building wheel for gputil (setup.py) ... \u001b[?25l\u001b[?25hdone\n",
            "  Created wheel for gputil: filename=GPUtil-1.4.0-cp36-none-any.whl size=7411 sha256=b2894ed3421bfd25529404cf7528481421513950652e6663e32ef356e2736e6f\n",
            "  Stored in directory: /root/.cache/pip/wheels/3d/77/07/80562de4bb0786e5ea186911a2c831fdd0018bda69beab71fd\n",
            "Successfully built gputil\n",
            "Installing collected packages: gputil\n",
            "Successfully installed gputil-1.4.0\n",
            "Requirement already satisfied: psutil in /usr/local/lib/python3.6/dist-packages (5.4.8)\n",
            "Requirement already satisfied: humanize in /usr/local/lib/python3.6/dist-packages (0.5.1)\n",
            "Gen RAM Free: 12.7 GB  | Proc size: 370.9 MB\n",
            "GPU RAM Free: 15079MB | Used: 0MB | Util   0% | Total 15079MB\n"
          ],
          "name": "stdout"
        }
      ]
    },
    {
      "cell_type": "code",
      "metadata": {
        "colab": {
          "base_uri": "https://localhost:8080/"
        },
        "id": "sAyD-jaDYzIJ",
        "outputId": "0b459766-c28d-4563-d2cc-c8d77adf4633"
      },
      "source": [
        "from google.colab import drive\r\n",
        "drive.mount('/content/drive')"
      ],
      "execution_count": 4,
      "outputs": [
        {
          "output_type": "stream",
          "text": [
            "Mounted at /content/drive\n"
          ],
          "name": "stdout"
        }
      ]
    },
    {
      "cell_type": "code",
      "metadata": {
        "id": "Yu6DRWEbYzIV"
      },
      "source": [
        "def get_data(file): \n",
        "\n",
        "    data = pd.read_csv(file)\n",
        "\n",
        "    feat_raw = data['quizzes']\n",
        "    label_raw = data['solutions']\n",
        "\n",
        "    feat = []\n",
        "    label = []\n",
        "\n",
        "    for i in feat_raw:\n",
        "    \n",
        "        x = np.array([int(j) for j in i]).reshape((9,9,1))\n",
        "        feat.append(x)\n",
        "    \n",
        "    feat = np.array(feat)\n",
        "    feat = feat/9\n",
        "    feat -= .5    \n",
        "    \n",
        "    for i in label_raw:\n",
        "    \n",
        "        x = np.array([int(j) for j in i]).reshape((81,1)) - 1\n",
        "        label.append(x)   \n",
        "    \n",
        "    label = np.array(label)\n",
        "    \n",
        "    del(feat_raw)\n",
        "    del(label_raw)    \n",
        "\n",
        "    x_train, x_test, y_train, y_test = train_test_split(feat, label, test_size=0.2, random_state=42)\n",
        "    \n",
        "    return x_train, x_test, y_train, y_test , data"
      ],
      "execution_count": 5,
      "outputs": []
    },
    {
      "cell_type": "code",
      "metadata": {
        "id": "TwmA89gKYzIW"
      },
      "source": [
        "x_train, x_test, y_train, y_test , data = get_data('drive/MyDrive/Colab Notebooks/SUDOKU/sudoku.csv')"
      ],
      "execution_count": 6,
      "outputs": []
    },
    {
      "cell_type": "code",
      "metadata": {
        "scrolled": false,
        "colab": {
          "base_uri": "https://localhost:8080/"
        },
        "id": "MbvueQpnYzIW",
        "outputId": "37ebb4c9-375c-4aac-c7c7-cee16a34a1cd"
      },
      "source": [
        "print(\"dd\")\n",
        "print(data)\n",
        "print(\"next\")\n",
        "print(x_train.shape)"
      ],
      "execution_count": 7,
      "outputs": [
        {
          "output_type": "stream",
          "text": [
            "dd\n",
            "                                                  quizzes                                          solutions\n",
            "0       0043002090050090010700600430060020871900074000...  8643712593258497619712658434361925871986574322...\n",
            "1       0401000501070039605200080000000000170009068008...  3461792581875239645296483719658324174729168358...\n",
            "2       6001203840084590720000060050002640300700800069...  6951273841384596727248369158512647392739815469...\n",
            "3       4972000001004000050000160986203000403009000000...  4972583161864397252537164986293815473759641828...\n",
            "4       0059103080094030600275001000300002010008200070...  4659123781894735623275681497386452919548216372...\n",
            "...                                                   ...                                                ...\n",
            "999995  3000280000290000300054001077402030980086070031...  3175289464291768356854391277462135989586472131...\n",
            "999996  0030006000040860057000009409350407208067200502...  5234976811942863757685139429356417288167294532...\n",
            "999997  0003508200618040300500090000700600029030070100...  7493568212618745393582197468749613529235876146...\n",
            "999998  0702006900030400010000650205600300000947005800...  4752816936239478511893657245628341793947165828...\n",
            "999999  3004016201000804000050208300578000000007005030...  3984716251263854797456298316578139429147625838...\n",
            "\n",
            "[1000000 rows x 2 columns]\n",
            "next\n",
            "(800000, 9, 9, 1)\n"
          ],
          "name": "stdout"
        }
      ]
    },
    {
      "cell_type": "code",
      "metadata": {
        "id": "QFy3C2RpYzIW"
      },
      "source": [
        "def get_model():\n",
        "\n",
        "    model = keras.models.Sequential()\n",
        "\n",
        "    model.add(Conv2D(64, kernel_size=(3,3), activation='relu', padding='same', input_shape=(9,9,1)))\n",
        "    model.add(BatchNormalization())\n",
        "    model.add(Conv2D(64, kernel_size=(3,3), activation='relu', padding='same'))\n",
        "    model.add(BatchNormalization())\n",
        "    model.add(Conv2D(128, kernel_size=(1,1), activation='relu', padding='same'))\n",
        "\n",
        "    model.add(Flatten())\n",
        "    model.add(Dense(81*9))\n",
        "    model.add(Reshape((-1, 9)))\n",
        "    model.add(Activation('softmax'))\n",
        "    return model"
      ],
      "execution_count": 8,
      "outputs": []
    },
    {
      "cell_type": "code",
      "metadata": {
        "id": "FH0j8jskYzIY"
      },
      "source": [
        "rows, cols = 9, 9\n",
        "def create_convnet():\n",
        "    input_shape = Input(shape=(rows, cols, 1))\n",
        "\n",
        "    tower_1 = Conv2D(512, (3,3), padding='valid', strides=(3,3), activation='relu')(input_shape)\n",
        "    #tower_1 = MaxPooling2D((1, 11), strides=(1, 1),  padding='same')(tower_1)\n",
        "    tower_1 = BatchNormalization()(tower_1)\n",
        "    tower_1 = Flatten()(tower_1)\n",
        "\n",
        "    tower_2 = Conv2D(512, (9, 1), padding='valid', strides=(1, 9), activation='relu')(input_shape)\n",
        "    tower_2 = BatchNormalization()(tower_2)\n",
        "    tower_2 = Flatten()(tower_2)\n",
        "\n",
        "    tower_3 = Conv2D(512, (1, 9), padding='valid', strides=(9, 1), activation='relu')(input_shape)    \n",
        "    tower_3 = BatchNormalization()(tower_3)\n",
        "    tower_3 = Flatten()(tower_3)\n",
        "\n",
        "    merged = keras.layers.concatenate([tower_1, tower_2, tower_3], axis=1)\n",
        "    #merged = Conv2D(128, kernel_size=(3,3), activation='relu', padding='same')(merged)\n",
        "\n",
        "    merged = Flatten()(merged)\n",
        "    print(merged.shape)\n",
        "\n",
        "    #dense = Dense((2048))(merged)\n",
        "    #dense = Conv2D(128, kernel_size=(3,3), activation='relu', padding='same')(merged)\n",
        "    #dense = Conv2D(512, (3, 3), padding='same', activation='relu')(dense)\n",
        "\n",
        "    #ajouter dense/conv ou deux entre taille du merge et taille de out  \n",
        "    out = Dense(81*9)(merged)\n",
        "    print(out.shape)\n",
        "    out = Reshape((-1, 9))(out)\n",
        "    out = tf.keras.layers.Activation('softmax')(out)\n",
        "\n",
        "    \n",
        "    model = Model(input_shape, out)\n",
        "    \n",
        "    \n",
        "    return model"
      ],
      "execution_count": 50,
      "outputs": []
    },
    {
      "cell_type": "code",
      "metadata": {
        "colab": {
          "base_uri": "https://localhost:8080/"
        },
        "id": "0LpYYh6NGmJQ",
        "outputId": "22a40595-4493-490d-90de-8d518bbd6dbe"
      },
      "source": [
        "create_convnet()\r\n",
        "print(512*9)"
      ],
      "execution_count": 51,
      "outputs": [
        {
          "output_type": "stream",
          "text": [
            "(None, 5632)\n",
            "(None, 729)\n",
            "4608\n"
          ],
          "name": "stdout"
        }
      ]
    },
    {
      "cell_type": "code",
      "metadata": {
        "id": "q_44QIP9YzIa"
      },
      "source": [
        "def get_model_Dense():\n",
        "\n",
        "    model = keras.models.Sequential()\n",
        "\n",
        "    model.add(Dense(128, activation='relu'))\n",
        "    model.add(BatchNormalization())\n",
        "    model.add(Dropout(0.4))\n",
        "\n",
        "    model.add(Dense(256, activation='relu'))\n",
        "    model.add(BatchNormalization())\n",
        "    model.add(Dropout(0.4))\n",
        "\n",
        "    model.add(Dense(128, activation='relu'))\n",
        "\n",
        "    model.add(Flatten())\n",
        "    model.add(Dense(81*9))\n",
        "    model.add(Reshape((-1, 9)))\n",
        "    model.add(Activation('softmax'))\n",
        "    return model"
      ],
      "execution_count": 11,
      "outputs": []
    },
    {
      "cell_type": "code",
      "metadata": {
        "id": "q8akym6dYzIa"
      },
      "source": [
        "def create_ResNet():\n",
        "    model = tf.keras.applications.ResNet50(\n",
        "        include_top=True, weights=None , input_shape=None,  input_tensor=None, classes=9\n",
        "    )\n",
        "    return model"
      ],
      "execution_count": 12,
      "outputs": []
    },
    {
      "cell_type": "code",
      "metadata": {
        "id": "kXqL-DRBYzIb"
      },
      "source": [
        "#model = get_model()\n",
        "#model = get_model_Dense()\n",
        "model = create_convnet()\n",
        "#model = create_ResNet()\n",
        "\n",
        "adam = keras.optimizers.Adam(lr=.0001)\n",
        "model.compile(loss='sparse_categorical_crossentropy', optimizer=adam)\n",
        "#model.summary()\n",
        "\n",
        "model.fit(x_train, y_train, batch_size=128, epochs=20)"
      ],
      "execution_count": null,
      "outputs": []
    },
    {
      "cell_type": "code",
      "metadata": {
        "id": "pASrRTcm74D4",
        "outputId": "72759094-61c4-4a11-c5c9-1f523ba88ea3",
        "colab": {
          "base_uri": "https://localhost:8080/"
        }
      },
      "source": [
        "model.evaluate(x_test, y_test)"
      ],
      "execution_count": 73,
      "outputs": [
        {
          "output_type": "stream",
          "text": [
            "6250/6250 [==============================] - 10s 2ms/step - loss: 0.4249\n"
          ],
          "name": "stdout"
        },
        {
          "output_type": "execute_result",
          "data": {
            "text/plain": [
              "0.4249066412448883"
            ]
          },
          "metadata": {
            "tags": []
          },
          "execution_count": 73
        }
      ]
    },
    {
      "cell_type": "code",
      "metadata": {
        "id": "wgaU0Ss_5koQ"
      },
      "source": [
        "model.summary()"
      ],
      "execution_count": null,
      "outputs": []
    },
    {
      "cell_type": "code",
      "metadata": {
        "id": "PnXoKzhX5elj"
      },
      "source": [
        "model.save('drive/MyDrive/Colab Notebooks/SUDOKU/my_model/my_model.h5') "
      ],
      "execution_count": 59,
      "outputs": []
    },
    {
      "cell_type": "code",
      "metadata": {
        "id": "PFj4kTa8GOHL"
      },
      "source": [
        "tf.keras.models.save_model(\r\n",
        "    model, 'drive/MyDrive/Colab Notebooks/SUDOKU/my_model2', overwrite=True, include_optimizer=True, save_format=\"model\",\r\n",
        "    signatures=None, options=None, save_traces=True\r\n",
        ")"
      ],
      "execution_count": null,
      "outputs": []
    },
    {
      "cell_type": "code",
      "metadata": {
        "id": "wPX8G7umYzIc"
      },
      "source": [
        "def norm(a):\n",
        "    \n",
        "    return (a/9)-.5"
      ],
      "execution_count": 60,
      "outputs": []
    },
    {
      "cell_type": "code",
      "metadata": {
        "id": "vJ6yS3VFYzIc"
      },
      "source": [
        "def denorm(a):\n",
        "    \n",
        "    return (a+.5)*9"
      ],
      "execution_count": 61,
      "outputs": []
    },
    {
      "cell_type": "code",
      "metadata": {
        "id": "0TFQASDxYzIc"
      },
      "source": [
        "def inference_sudoku(sample):\n",
        "    \n",
        "    '''\n",
        "        This function solve the sudoku by filling blank positions one by one.\n",
        "    '''\n",
        "    \n",
        "    feat = copy.copy(sample)\n",
        "    \n",
        "    while(1):\n",
        "    \n",
        "        out = model.predict(feat.reshape((1,9,9,1)))  \n",
        "        out = out.squeeze()\n",
        "\n",
        "        pred = np.argmax(out, axis=1).reshape((9,9))+1 \n",
        "        prob = np.around(np.max(out, axis=1).reshape((9,9)), 2) \n",
        "        \n",
        "        feat = denorm(feat).reshape((9,9))\n",
        "        mask = (feat==0)\n",
        "     \n",
        "        if(mask.sum()==0):\n",
        "            break\n",
        "            \n",
        "        prob_new = prob*mask\n",
        "    \n",
        "        ind = np.argmax(prob_new)\n",
        "        x, y = (ind//9), (ind%9)\n",
        "\n",
        "        val = pred[x][y]\n",
        "        feat[x][y] = val\n",
        "        feat = norm(feat)\n",
        "    \n",
        "    return pred"
      ],
      "execution_count": 62,
      "outputs": []
    },
    {
      "cell_type": "code",
      "metadata": {
        "id": "UlP-ausFYzId"
      },
      "source": [
        "def test_accuracy(feats, labels):\n",
        "    \n",
        "    correct = 0\n",
        "    \n",
        "    for i,feat in enumerate(feats):\n",
        "        \n",
        "        pred = inference_sudoku(feat)\n",
        "        \n",
        "        true = labels[i].reshape((9,9))+1\n",
        "        \n",
        "        if(abs(true - pred).sum()==0):\n",
        "            correct += 1\n",
        "        \n",
        "    print(correct/feats.shape[0])"
      ],
      "execution_count": 63,
      "outputs": []
    },
    {
      "cell_type": "code",
      "metadata": {
        "colab": {
          "base_uri": "https://localhost:8080/"
        },
        "id": "Jeos4OK1YzIe",
        "outputId": "9d2e8d8e-00af-409e-c07e-c1e640e60a33"
      },
      "source": [
        "test_accuracy(x_test[:100], y_test[:100])"
      ],
      "execution_count": 64,
      "outputs": [
        {
          "output_type": "stream",
          "text": [
            "0.44\n"
          ],
          "name": "stdout"
        }
      ]
    },
    {
      "cell_type": "code",
      "metadata": {
        "id": "UGzvsIY6YzIe"
      },
      "source": [
        "def solve_sudoku(game):\n",
        "    \n",
        "    game = game.replace('\\n', '')\n",
        "    game = game.replace(' ', '')\n",
        "    game = np.array([int(j) for j in game]).reshape((9,9,1))\n",
        "    game = norm(game)\n",
        "    game = inference_sudoku(game)\n",
        "    return game"
      ],
      "execution_count": 65,
      "outputs": []
    },
    {
      "cell_type": "code",
      "metadata": {
        "colab": {
          "base_uri": "https://localhost:8080/"
        },
        "id": "7Dz654FgYzIf",
        "outputId": "dc42afb5-1675-4963-8da7-d7cec08ec2e6"
      },
      "source": [
        "game = '''\n",
        "          0 8 0 0 3 2 0 0 1\n",
        "          7 0 3 0 8 0 0 0 2\n",
        "          5 0 0 0 0 7 0 3 0\n",
        "          0 5 0 0 0 1 9 7 0\n",
        "          6 0 0 7 0 9 0 0 8\n",
        "          0 4 7 2 0 0 0 5 0\n",
        "          0 2 0 6 0 0 0 0 9\n",
        "          8 0 0 0 9 0 3 0 5\n",
        "          3 0 0 8 2 0 0 1 0\n",
        "      '''\n",
        "\n",
        "game = solve_sudoku(game)\n",
        "\n",
        "print('solved puzzle:\\n')\n",
        "print(game)"
      ],
      "execution_count": 66,
      "outputs": [
        {
          "output_type": "stream",
          "text": [
            "solved puzzle:\n",
            "\n",
            "[[4 8 9 5 3 2 7 8 1]\n",
            " [7 1 3 4 8 6 5 9 2]\n",
            " [5 8 2 9 1 7 6 3 4]\n",
            " [2 5 8 3 4 1 9 7 6]\n",
            " [6 3 1 7 5 9 4 2 8]\n",
            " [9 4 7 2 6 8 1 5 3]\n",
            " [1 2 5 6 7 3 8 4 9]\n",
            " [8 7 2 1 9 4 3 6 5]\n",
            " [3 9 4 8 2 5 2 1 7]]\n"
          ],
          "name": "stdout"
        }
      ]
    },
    {
      "cell_type": "code",
      "metadata": {
        "colab": {
          "base_uri": "https://localhost:8080/"
        },
        "id": "tmz9j8akYzIf",
        "outputId": "a31f5774-57b7-4abd-e25e-47e9cbb96d09"
      },
      "source": [
        "np.sum(game, axis=1)"
      ],
      "execution_count": 67,
      "outputs": [
        {
          "output_type": "execute_result",
          "data": {
            "text/plain": [
              "array([47, 45, 45, 45, 45, 45, 45, 45, 41])"
            ]
          },
          "metadata": {
            "tags": []
          },
          "execution_count": 67
        }
      ]
    }
  ]
}